{
 "cells": [
  {
   "cell_type": "markdown",
   "metadata": {},
   "source": [
    "# Ensemble Learning\n",
    "\n",
    "## Initial Imports"
   ]
  },
  {
   "cell_type": "code",
   "execution_count": 2,
   "metadata": {},
   "outputs": [],
   "source": [
    "import warnings\n",
    "warnings.filterwarnings('ignore')"
   ]
  },
  {
   "cell_type": "code",
   "execution_count": 3,
   "metadata": {},
   "outputs": [],
   "source": [
    "import numpy as np\n",
    "import pandas as pd\n",
    "from pathlib import Path\n",
    "from collections import Counter"
   ]
  },
  {
   "cell_type": "code",
   "execution_count": 33,
   "metadata": {},
   "outputs": [],
   "source": [
    "from sklearn.metrics import balanced_accuracy_score\n",
    "from sklearn.metrics import confusion_matrix\n",
    "from imblearn.metrics import classification_report_imbalanced"
   ]
  },
  {
   "cell_type": "markdown",
   "metadata": {},
   "source": [
    "## Read the CSV and Perform Basic Data Cleaning"
   ]
  },
  {
   "cell_type": "code",
   "execution_count": 19,
   "metadata": {},
   "outputs": [
    {
     "name": "stdout",
     "output_type": "stream",
     "text": [
      "<class 'pandas.core.frame.DataFrame'>\n",
      "RangeIndex: 68817 entries, 0 to 68816\n",
      "Data columns (total 85 columns):\n",
      "loan_amnt                     68817 non-null float64\n",
      "int_rate                      68817 non-null float64\n",
      "installment                   68817 non-null float64\n",
      "annual_inc                    68817 non-null float64\n",
      "loan_status                   68817 non-null object\n",
      "dti                           68817 non-null float64\n",
      "delinq_2yrs                   68817 non-null float64\n",
      "inq_last_6mths                68817 non-null float64\n",
      "open_acc                      68817 non-null float64\n",
      "pub_rec                       68817 non-null float64\n",
      "revol_bal                     68817 non-null float64\n",
      "total_acc                     68817 non-null float64\n",
      "out_prncp                     68817 non-null float64\n",
      "out_prncp_inv                 68817 non-null float64\n",
      "total_pymnt                   68817 non-null float64\n",
      "total_pymnt_inv               68817 non-null float64\n",
      "total_rec_prncp               68817 non-null float64\n",
      "total_rec_int                 68817 non-null float64\n",
      "total_rec_late_fee            68817 non-null float64\n",
      "recoveries                    68817 non-null float64\n",
      "collection_recovery_fee       68817 non-null float64\n",
      "last_pymnt_amnt               68817 non-null float64\n",
      "collections_12_mths_ex_med    68817 non-null float64\n",
      "policy_code                   68817 non-null float64\n",
      "acc_now_delinq                68817 non-null float64\n",
      "tot_coll_amt                  68817 non-null float64\n",
      "tot_cur_bal                   68817 non-null float64\n",
      "open_acc_6m                   68817 non-null float64\n",
      "open_act_il                   68817 non-null float64\n",
      "open_il_12m                   68817 non-null float64\n",
      "open_il_24m                   68817 non-null float64\n",
      "mths_since_rcnt_il            68817 non-null float64\n",
      "total_bal_il                  68817 non-null float64\n",
      "il_util                       68817 non-null float64\n",
      "open_rv_12m                   68817 non-null float64\n",
      "open_rv_24m                   68817 non-null float64\n",
      "max_bal_bc                    68817 non-null float64\n",
      "all_util                      68817 non-null float64\n",
      "total_rev_hi_lim              68817 non-null float64\n",
      "inq_fi                        68817 non-null float64\n",
      "total_cu_tl                   68817 non-null float64\n",
      "inq_last_12m                  68817 non-null float64\n",
      "acc_open_past_24mths          68817 non-null float64\n",
      "avg_cur_bal                   68817 non-null float64\n",
      "bc_open_to_buy                68817 non-null float64\n",
      "bc_util                       68817 non-null float64\n",
      "chargeoff_within_12_mths      68817 non-null float64\n",
      "delinq_amnt                   68817 non-null float64\n",
      "mo_sin_old_il_acct            68817 non-null float64\n",
      "mo_sin_old_rev_tl_op          68817 non-null float64\n",
      "mo_sin_rcnt_rev_tl_op         68817 non-null float64\n",
      "mo_sin_rcnt_tl                68817 non-null float64\n",
      "mort_acc                      68817 non-null float64\n",
      "mths_since_recent_bc          68817 non-null float64\n",
      "mths_since_recent_inq         68817 non-null float64\n",
      "num_accts_ever_120_pd         68817 non-null float64\n",
      "num_actv_bc_tl                68817 non-null float64\n",
      "num_actv_rev_tl               68817 non-null float64\n",
      "num_bc_sats                   68817 non-null float64\n",
      "num_bc_tl                     68817 non-null float64\n",
      "num_il_tl                     68817 non-null float64\n",
      "num_op_rev_tl                 68817 non-null float64\n",
      "num_rev_accts                 68817 non-null float64\n",
      "num_rev_tl_bal_gt_0           68817 non-null float64\n",
      "num_sats                      68817 non-null float64\n",
      "num_tl_120dpd_2m              68817 non-null float64\n",
      "num_tl_30dpd                  68817 non-null float64\n",
      "num_tl_90g_dpd_24m            68817 non-null float64\n",
      "num_tl_op_past_12m            68817 non-null float64\n",
      "pct_tl_nvr_dlq                68817 non-null float64\n",
      "percent_bc_gt_75              68817 non-null float64\n",
      "pub_rec_bankruptcies          68817 non-null float64\n",
      "tax_liens                     68817 non-null float64\n",
      "tot_hi_cred_lim               68817 non-null float64\n",
      "total_bal_ex_mort             68817 non-null float64\n",
      "total_bc_limit                68817 non-null float64\n",
      "total_il_high_credit_limit    68817 non-null float64\n",
      "home_ownership_code           68817 non-null float64\n",
      "verification_status_code      68817 non-null float64\n",
      "issue_d_code                  68817 non-null float64\n",
      "pymnt_plan_code               68817 non-null float64\n",
      "initial_list_status_code      68817 non-null float64\n",
      "application_type_code         68817 non-null float64\n",
      "hardship_flag_code            68817 non-null float64\n",
      "debt_settlement_flag_code     68817 non-null float64\n",
      "dtypes: float64(84), object(1)\n",
      "memory usage: 44.6+ MB\n"
     ]
    }
   ],
   "source": [
    "# Load the data\n",
    "file_path = Path('Resources/LoanStats_2019Q1.csv')\n",
    "df = pd.read_csv(file_path)\n",
    "from sklearn.preprocessing import OrdinalEncoder\n",
    "ord_enc = OrdinalEncoder()\n",
    "df[\"home_ownership_code\"] = ord_enc.fit_transform(df[[\"home_ownership\"]])\n",
    "df[\"verification_status_code\"] = ord_enc.fit_transform(df[[\"verification_status\"]])\n",
    "df[\"issue_d_code\"] = ord_enc.fit_transform(df[[\"issue_d\"]])\n",
    "df[\"pymnt_plan_code\"] = ord_enc.fit_transform(df[[\"pymnt_plan\"]])\n",
    "df[\"initial_list_status_code\"] = ord_enc.fit_transform(df[[\"initial_list_status\"]])\n",
    "df[\"application_type_code\"] = ord_enc.fit_transform(df[[\"application_type\"]])\n",
    "df[\"hardship_flag_code\"] = ord_enc.fit_transform(df[[\"hardship_flag\"]])\n",
    "df[\"debt_settlement_flag_code\"] = ord_enc.fit_transform(df[[\"debt_settlement_flag\"]])\n",
    "df.drop(columns=[\"home_ownership\",\"verification_status\",\"issue_d\",\"pymnt_plan\",\"initial_list_status\",\"next_pymnt_d\",\"application_type\",\"hardship_flag\",\"debt_settlement_flag\"], inplace=True)\n",
    "df.info()\n",
    "#\"verification_status_code\",\"issue_d_code\",\"pymnt_plan_code\",\"initial_list_status\",\"next_pymnt_d_code\",\"application_type_code\",\"hardship_flag_code\",\"debt_settlement_flag\"\n",
    "#,\"verification_status\",\"issue_d\",\"pymnt_plan\",\"initial_list_status\",\"next_pymnt_d\",\"application_type\",\"hardship_flag\",\"debt_settlement_flag\"\n",
    "#from sklearn.preprocessing import OneHotEncoder\n",
    "#oe_style = OneHotEncoder()\n",
    "#oe_results = oe_style.fit_transform(obj_df[[\"body_style\"]])\n",
    "#pd.DataFrame(oe_results.toarray(), columns=oe_style.categories_).head()\n",
    "#df[\"home_ownership\"] = df[\"home_ownership\"].astype('category')\n",
    "#df[\"home_ownership_cat\"] = df[\"home_ownership\"].cat.codes\n",
    "#df.dtypes\n",
    "# Preview the data\"\n",
    "#df.info()"
   ]
  },
  {
   "cell_type": "markdown",
   "metadata": {},
   "source": [
    "## Split the Data into Training and Testing"
   ]
  },
  {
   "cell_type": "code",
   "execution_count": 20,
   "metadata": {},
   "outputs": [],
   "source": [
    "# Create our features\n",
    "x = df.drop(columns=\"loan_status\")\n",
    "# Create our target\n",
    "y = df[\"loan_status\"]"
   ]
  },
  {
   "cell_type": "code",
   "execution_count": 21,
   "metadata": {},
   "outputs": [
    {
     "data": {
      "text/html": [
       "<div>\n",
       "<style scoped>\n",
       "    .dataframe tbody tr th:only-of-type {\n",
       "        vertical-align: middle;\n",
       "    }\n",
       "\n",
       "    .dataframe tbody tr th {\n",
       "        vertical-align: top;\n",
       "    }\n",
       "\n",
       "    .dataframe thead th {\n",
       "        text-align: right;\n",
       "    }\n",
       "</style>\n",
       "<table border=\"1\" class=\"dataframe\">\n",
       "  <thead>\n",
       "    <tr style=\"text-align: right;\">\n",
       "      <th></th>\n",
       "      <th>loan_amnt</th>\n",
       "      <th>int_rate</th>\n",
       "      <th>installment</th>\n",
       "      <th>annual_inc</th>\n",
       "      <th>dti</th>\n",
       "      <th>delinq_2yrs</th>\n",
       "      <th>inq_last_6mths</th>\n",
       "      <th>open_acc</th>\n",
       "      <th>pub_rec</th>\n",
       "      <th>revol_bal</th>\n",
       "      <th>...</th>\n",
       "      <th>total_bc_limit</th>\n",
       "      <th>total_il_high_credit_limit</th>\n",
       "      <th>home_ownership_code</th>\n",
       "      <th>verification_status_code</th>\n",
       "      <th>issue_d_code</th>\n",
       "      <th>pymnt_plan_code</th>\n",
       "      <th>initial_list_status_code</th>\n",
       "      <th>application_type_code</th>\n",
       "      <th>hardship_flag_code</th>\n",
       "      <th>debt_settlement_flag_code</th>\n",
       "    </tr>\n",
       "  </thead>\n",
       "  <tbody>\n",
       "    <tr>\n",
       "      <th>count</th>\n",
       "      <td>68817.000000</td>\n",
       "      <td>68817.000000</td>\n",
       "      <td>68817.000000</td>\n",
       "      <td>6.881700e+04</td>\n",
       "      <td>68817.000000</td>\n",
       "      <td>68817.000000</td>\n",
       "      <td>68817.000000</td>\n",
       "      <td>68817.000000</td>\n",
       "      <td>68817.000000</td>\n",
       "      <td>68817.000000</td>\n",
       "      <td>...</td>\n",
       "      <td>68817.000000</td>\n",
       "      <td>6.881700e+04</td>\n",
       "      <td>68817.000000</td>\n",
       "      <td>68817.000000</td>\n",
       "      <td>68817.000000</td>\n",
       "      <td>68817.0</td>\n",
       "      <td>68817.000000</td>\n",
       "      <td>68817.000000</td>\n",
       "      <td>68817.0</td>\n",
       "      <td>68817.0</td>\n",
       "    </tr>\n",
       "    <tr>\n",
       "      <th>mean</th>\n",
       "      <td>16677.594562</td>\n",
       "      <td>0.127718</td>\n",
       "      <td>480.652863</td>\n",
       "      <td>8.821371e+04</td>\n",
       "      <td>21.778153</td>\n",
       "      <td>0.217766</td>\n",
       "      <td>0.497697</td>\n",
       "      <td>12.587340</td>\n",
       "      <td>0.126030</td>\n",
       "      <td>17604.142828</td>\n",
       "      <td>...</td>\n",
       "      <td>29734.128558</td>\n",
       "      <td>5.572240e+04</td>\n",
       "      <td>1.812779</td>\n",
       "      <td>0.669994</td>\n",
       "      <td>0.805542</td>\n",
       "      <td>0.0</td>\n",
       "      <td>0.876121</td>\n",
       "      <td>0.139660</td>\n",
       "      <td>0.0</td>\n",
       "      <td>0.0</td>\n",
       "    </tr>\n",
       "    <tr>\n",
       "      <th>std</th>\n",
       "      <td>10277.348590</td>\n",
       "      <td>0.048130</td>\n",
       "      <td>288.062432</td>\n",
       "      <td>1.155800e+05</td>\n",
       "      <td>20.199244</td>\n",
       "      <td>0.718367</td>\n",
       "      <td>0.758122</td>\n",
       "      <td>6.022869</td>\n",
       "      <td>0.336797</td>\n",
       "      <td>21835.880400</td>\n",
       "      <td>...</td>\n",
       "      <td>26795.394232</td>\n",
       "      <td>5.095845e+04</td>\n",
       "      <td>0.941313</td>\n",
       "      <td>0.719105</td>\n",
       "      <td>0.714932</td>\n",
       "      <td>0.0</td>\n",
       "      <td>0.329446</td>\n",
       "      <td>0.346637</td>\n",
       "      <td>0.0</td>\n",
       "      <td>0.0</td>\n",
       "    </tr>\n",
       "    <tr>\n",
       "      <th>min</th>\n",
       "      <td>1000.000000</td>\n",
       "      <td>0.060000</td>\n",
       "      <td>30.890000</td>\n",
       "      <td>4.000000e+01</td>\n",
       "      <td>0.000000</td>\n",
       "      <td>0.000000</td>\n",
       "      <td>0.000000</td>\n",
       "      <td>2.000000</td>\n",
       "      <td>0.000000</td>\n",
       "      <td>0.000000</td>\n",
       "      <td>...</td>\n",
       "      <td>100.000000</td>\n",
       "      <td>1.270000e+02</td>\n",
       "      <td>0.000000</td>\n",
       "      <td>0.000000</td>\n",
       "      <td>0.000000</td>\n",
       "      <td>0.0</td>\n",
       "      <td>0.000000</td>\n",
       "      <td>0.000000</td>\n",
       "      <td>0.0</td>\n",
       "      <td>0.0</td>\n",
       "    </tr>\n",
       "    <tr>\n",
       "      <th>25%</th>\n",
       "      <td>9000.000000</td>\n",
       "      <td>0.088100</td>\n",
       "      <td>265.730000</td>\n",
       "      <td>5.000000e+04</td>\n",
       "      <td>13.890000</td>\n",
       "      <td>0.000000</td>\n",
       "      <td>0.000000</td>\n",
       "      <td>8.000000</td>\n",
       "      <td>0.000000</td>\n",
       "      <td>6293.000000</td>\n",
       "      <td>...</td>\n",
       "      <td>11600.000000</td>\n",
       "      <td>2.288000e+04</td>\n",
       "      <td>1.000000</td>\n",
       "      <td>0.000000</td>\n",
       "      <td>0.000000</td>\n",
       "      <td>0.0</td>\n",
       "      <td>1.000000</td>\n",
       "      <td>0.000000</td>\n",
       "      <td>0.0</td>\n",
       "      <td>0.0</td>\n",
       "    </tr>\n",
       "    <tr>\n",
       "      <th>50%</th>\n",
       "      <td>15000.000000</td>\n",
       "      <td>0.118000</td>\n",
       "      <td>404.560000</td>\n",
       "      <td>7.300000e+04</td>\n",
       "      <td>19.760000</td>\n",
       "      <td>0.000000</td>\n",
       "      <td>0.000000</td>\n",
       "      <td>11.000000</td>\n",
       "      <td>0.000000</td>\n",
       "      <td>12068.000000</td>\n",
       "      <td>...</td>\n",
       "      <td>22100.000000</td>\n",
       "      <td>4.200000e+04</td>\n",
       "      <td>1.000000</td>\n",
       "      <td>1.000000</td>\n",
       "      <td>1.000000</td>\n",
       "      <td>0.0</td>\n",
       "      <td>1.000000</td>\n",
       "      <td>0.000000</td>\n",
       "      <td>0.0</td>\n",
       "      <td>0.0</td>\n",
       "    </tr>\n",
       "    <tr>\n",
       "      <th>75%</th>\n",
       "      <td>24000.000000</td>\n",
       "      <td>0.155700</td>\n",
       "      <td>648.100000</td>\n",
       "      <td>1.040000e+05</td>\n",
       "      <td>26.660000</td>\n",
       "      <td>0.000000</td>\n",
       "      <td>1.000000</td>\n",
       "      <td>16.000000</td>\n",
       "      <td>0.000000</td>\n",
       "      <td>21735.000000</td>\n",
       "      <td>...</td>\n",
       "      <td>39300.000000</td>\n",
       "      <td>7.249900e+04</td>\n",
       "      <td>3.000000</td>\n",
       "      <td>1.000000</td>\n",
       "      <td>1.000000</td>\n",
       "      <td>0.0</td>\n",
       "      <td>1.000000</td>\n",
       "      <td>0.000000</td>\n",
       "      <td>0.0</td>\n",
       "      <td>0.0</td>\n",
       "    </tr>\n",
       "    <tr>\n",
       "      <th>max</th>\n",
       "      <td>40000.000000</td>\n",
       "      <td>0.308400</td>\n",
       "      <td>1676.230000</td>\n",
       "      <td>8.797500e+06</td>\n",
       "      <td>999.000000</td>\n",
       "      <td>18.000000</td>\n",
       "      <td>5.000000</td>\n",
       "      <td>72.000000</td>\n",
       "      <td>4.000000</td>\n",
       "      <td>587191.000000</td>\n",
       "      <td>...</td>\n",
       "      <td>509400.000000</td>\n",
       "      <td>1.426964e+06</td>\n",
       "      <td>3.000000</td>\n",
       "      <td>2.000000</td>\n",
       "      <td>2.000000</td>\n",
       "      <td>0.0</td>\n",
       "      <td>1.000000</td>\n",
       "      <td>1.000000</td>\n",
       "      <td>0.0</td>\n",
       "      <td>0.0</td>\n",
       "    </tr>\n",
       "  </tbody>\n",
       "</table>\n",
       "<p>8 rows × 84 columns</p>\n",
       "</div>"
      ],
      "text/plain": [
       "          loan_amnt      int_rate   installment    annual_inc           dti  \\\n",
       "count  68817.000000  68817.000000  68817.000000  6.881700e+04  68817.000000   \n",
       "mean   16677.594562      0.127718    480.652863  8.821371e+04     21.778153   \n",
       "std    10277.348590      0.048130    288.062432  1.155800e+05     20.199244   \n",
       "min     1000.000000      0.060000     30.890000  4.000000e+01      0.000000   \n",
       "25%     9000.000000      0.088100    265.730000  5.000000e+04     13.890000   \n",
       "50%    15000.000000      0.118000    404.560000  7.300000e+04     19.760000   \n",
       "75%    24000.000000      0.155700    648.100000  1.040000e+05     26.660000   \n",
       "max    40000.000000      0.308400   1676.230000  8.797500e+06    999.000000   \n",
       "\n",
       "        delinq_2yrs  inq_last_6mths      open_acc       pub_rec  \\\n",
       "count  68817.000000    68817.000000  68817.000000  68817.000000   \n",
       "mean       0.217766        0.497697     12.587340      0.126030   \n",
       "std        0.718367        0.758122      6.022869      0.336797   \n",
       "min        0.000000        0.000000      2.000000      0.000000   \n",
       "25%        0.000000        0.000000      8.000000      0.000000   \n",
       "50%        0.000000        0.000000     11.000000      0.000000   \n",
       "75%        0.000000        1.000000     16.000000      0.000000   \n",
       "max       18.000000        5.000000     72.000000      4.000000   \n",
       "\n",
       "           revol_bal  ...  total_bc_limit  total_il_high_credit_limit  \\\n",
       "count   68817.000000  ...    68817.000000                6.881700e+04   \n",
       "mean    17604.142828  ...    29734.128558                5.572240e+04   \n",
       "std     21835.880400  ...    26795.394232                5.095845e+04   \n",
       "min         0.000000  ...      100.000000                1.270000e+02   \n",
       "25%      6293.000000  ...    11600.000000                2.288000e+04   \n",
       "50%     12068.000000  ...    22100.000000                4.200000e+04   \n",
       "75%     21735.000000  ...    39300.000000                7.249900e+04   \n",
       "max    587191.000000  ...   509400.000000                1.426964e+06   \n",
       "\n",
       "       home_ownership_code  verification_status_code  issue_d_code  \\\n",
       "count         68817.000000              68817.000000  68817.000000   \n",
       "mean              1.812779                  0.669994      0.805542   \n",
       "std               0.941313                  0.719105      0.714932   \n",
       "min               0.000000                  0.000000      0.000000   \n",
       "25%               1.000000                  0.000000      0.000000   \n",
       "50%               1.000000                  1.000000      1.000000   \n",
       "75%               3.000000                  1.000000      1.000000   \n",
       "max               3.000000                  2.000000      2.000000   \n",
       "\n",
       "       pymnt_plan_code  initial_list_status_code  application_type_code  \\\n",
       "count          68817.0              68817.000000           68817.000000   \n",
       "mean               0.0                  0.876121               0.139660   \n",
       "std                0.0                  0.329446               0.346637   \n",
       "min                0.0                  0.000000               0.000000   \n",
       "25%                0.0                  1.000000               0.000000   \n",
       "50%                0.0                  1.000000               0.000000   \n",
       "75%                0.0                  1.000000               0.000000   \n",
       "max                0.0                  1.000000               1.000000   \n",
       "\n",
       "       hardship_flag_code  debt_settlement_flag_code  \n",
       "count             68817.0                    68817.0  \n",
       "mean                  0.0                        0.0  \n",
       "std                   0.0                        0.0  \n",
       "min                   0.0                        0.0  \n",
       "25%                   0.0                        0.0  \n",
       "50%                   0.0                        0.0  \n",
       "75%                   0.0                        0.0  \n",
       "max                   0.0                        0.0  \n",
       "\n",
       "[8 rows x 84 columns]"
      ]
     },
     "execution_count": 21,
     "metadata": {},
     "output_type": "execute_result"
    }
   ],
   "source": [
    "x.describe()"
   ]
  },
  {
   "cell_type": "code",
   "execution_count": 22,
   "metadata": {},
   "outputs": [
    {
     "name": "stdout",
     "output_type": "stream",
     "text": [
      "low_risk     68470\n",
      "high_risk      347\n",
      "Name: loan_status, dtype: int64\n"
     ]
    }
   ],
   "source": [
    "# Check the balance of our target values\n",
    "print(y.value_counts())"
   ]
  },
  {
   "cell_type": "code",
   "execution_count": 23,
   "metadata": {},
   "outputs": [],
   "source": [
    "# Split the X and y into X_train, X_test, y_train, y_test\n",
    "from sklearn.model_selection import train_test_split\n",
    "x_train, x_test, y_train, y_test = train_test_split(x, y, random_state=78)"
   ]
  },
  {
   "cell_type": "markdown",
   "metadata": {},
   "source": [
    "## Data Pre-Processing\n",
    "\n",
    "Scale the training and testing data using the `StandardScaler` from `sklearn`. Remember that when scaling the data, you only scale the features data (`X_train` and `X_testing`)."
   ]
  },
  {
   "cell_type": "code",
   "execution_count": 24,
   "metadata": {},
   "outputs": [],
   "source": [
    "# Create the StandardScaler instance\n",
    "from sklearn.preprocessing import StandardScaler\n",
    "scaler = StandardScaler()"
   ]
  },
  {
   "cell_type": "code",
   "execution_count": 25,
   "metadata": {},
   "outputs": [],
   "source": [
    "# Fit the Standard Scaler with the training data\n",
    "# When fitting scaling functions, only train on the training dataset\n",
    "x_scaler = scaler.fit(x_train)"
   ]
  },
  {
   "cell_type": "code",
   "execution_count": 26,
   "metadata": {},
   "outputs": [],
   "source": [
    "# Scale the training and testing data\n",
    "x_train_scaled = x_scaler.transform(x_train)\n",
    "x_test_scaled = x_scaler.transform(x_test)"
   ]
  },
  {
   "cell_type": "markdown",
   "metadata": {},
   "source": [
    "## Ensemble Learners\n",
    "\n",
    "In this section, you will compare two ensemble algorithms to determine which algorithm results in the best performance. You will train a Balanced Random Forest Classifier and an Easy Ensemble classifier . For each algorithm, be sure to complete the folliowing steps:\n",
    "\n",
    "1. Train the model using the training data. \n",
    "2. Calculate the balanced accuracy score from sklearn.metrics.\n",
    "3. Display the confusion matrix from sklearn.metrics.\n",
    "4. Generate a classication report using the `imbalanced_classification_report` from imbalanced-learn.\n",
    "5. For the Balanced Random Forest Classifier only, print the feature importance sorted in descending order (most important feature to least important) along with the feature score\n",
    "\n",
    "Note: Use a random state of 1 for each algorithm to ensure consistency between tests"
   ]
  },
  {
   "cell_type": "markdown",
   "metadata": {},
   "source": [
    "### Balanced Random Forest Classifier"
   ]
  },
  {
   "cell_type": "code",
   "execution_count": 27,
   "metadata": {},
   "outputs": [],
   "source": [
    "# Resample the training data with the BalancedRandomForestClassifier\n",
    "from imblearn.ensemble import BalancedRandomForestClassifier\n",
    "rf_model = BalancedRandomForestClassifier(n_estimators=500, random_state=78)\n",
    "rf_model.fit(x_train, y_train)\n",
    "y_pred = rf_model.predict(x_test)"
   ]
  },
  {
   "cell_type": "code",
   "execution_count": 37,
   "metadata": {},
   "outputs": [
    {
     "name": "stdout",
     "output_type": "stream",
     "text": [
      "Accuracy Score : 0.7303384917136476\n"
     ]
    }
   ],
   "source": [
    "# Calculated the balanced accuracy score\n",
    "#from sklearn.metrics import accuracy_score\n",
    "acc_score = balanced_accuracy_score(y_test, y_pred)\n",
    "print(f\"Balanced Accuracy Score : {acc_score}\")"
   ]
  },
  {
   "cell_type": "code",
   "execution_count": 30,
   "metadata": {},
   "outputs": [
    {
     "name": "stdout",
     "output_type": "stream",
     "text": [
      "Confusion Matrix\n"
     ]
    },
    {
     "data": {
      "text/html": [
       "<div>\n",
       "<style scoped>\n",
       "    .dataframe tbody tr th:only-of-type {\n",
       "        vertical-align: middle;\n",
       "    }\n",
       "\n",
       "    .dataframe tbody tr th {\n",
       "        vertical-align: top;\n",
       "    }\n",
       "\n",
       "    .dataframe thead th {\n",
       "        text-align: right;\n",
       "    }\n",
       "</style>\n",
       "<table border=\"1\" class=\"dataframe\">\n",
       "  <thead>\n",
       "    <tr style=\"text-align: right;\">\n",
       "      <th></th>\n",
       "      <th>Predicted 0</th>\n",
       "      <th>Predicted 1</th>\n",
       "    </tr>\n",
       "  </thead>\n",
       "  <tbody>\n",
       "    <tr>\n",
       "      <th>Actual 0</th>\n",
       "      <td>52</td>\n",
       "      <td>40</td>\n",
       "    </tr>\n",
       "    <tr>\n",
       "      <th>Actual 1</th>\n",
       "      <td>1789</td>\n",
       "      <td>15324</td>\n",
       "    </tr>\n",
       "  </tbody>\n",
       "</table>\n",
       "</div>"
      ],
      "text/plain": [
       "          Predicted 0  Predicted 1\n",
       "Actual 0           52           40\n",
       "Actual 1         1789        15324"
      ]
     },
     "metadata": {},
     "output_type": "display_data"
    }
   ],
   "source": [
    "# Display the confusion matrix\n",
    "from sklearn.metrics import confusion_matrix\n",
    "cm= confusion_matrix(y_test, y_pred)\n",
    "cm_df = pd.DataFrame(\n",
    "    cm, index=[\"Actual 0\", \"Actual 1\"], columns=[\"Predicted 0\", \"Predicted 1\"]\n",
    ")\n",
    "print(\"Confusion Matrix\")\n",
    "display(cm_df)\n"
   ]
  },
  {
   "cell_type": "code",
   "execution_count": 38,
   "metadata": {},
   "outputs": [
    {
     "name": "stdout",
     "output_type": "stream",
     "text": [
      "Imbalanced Classification Report\n",
      "                   pre       rec       spe        f1       geo       iba       sup\n",
      "\n",
      "  high_risk       0.03      0.57      0.90      0.05      0.71      0.49        92\n",
      "   low_risk       1.00      0.90      0.57      0.94      0.71      0.52     17113\n",
      "\n",
      "avg / total       0.99      0.89      0.57      0.94      0.71      0.52     17205\n",
      "\n"
     ]
    }
   ],
   "source": [
    "# Print the imbalanced classification report\n",
    "print(\"Imbalanced Classification Report\")\n",
    "print(classification_report_imbalanced(y_test, y_pred))"
   ]
  },
  {
   "cell_type": "code",
   "execution_count": 39,
   "metadata": {},
   "outputs": [
    {
     "data": {
      "text/plain": [
       "[(0.07482059865791764, 'total_rec_prncp'),\n",
       " (0.06220496283362564, 'total_pymnt'),\n",
       " (0.062044801204460265, 'total_rec_int'),\n",
       " (0.0617601330221155, 'last_pymnt_amnt'),\n",
       " (0.054855729942975294, 'total_pymnt_inv'),\n",
       " (0.02931323652303738, 'int_rate'),\n",
       " (0.02192322438644246, 'issue_d_code'),\n",
       " (0.019541553295698778, 'dti'),\n",
       " (0.0188940814916535, 'mo_sin_old_rev_tl_op'),\n",
       " (0.017498479964337576, 'annual_inc'),\n",
       " (0.01691779509580381, 'bc_util'),\n",
       " (0.016461262240790624, 'installment'),\n",
       " (0.016206274711504803, 'mths_since_recent_inq'),\n",
       " (0.015462268334515514, 'max_bal_bc'),\n",
       " (0.01496204938603574, 'total_bc_limit'),\n",
       " (0.014859165003720597, 'bc_open_to_buy'),\n",
       " (0.014760416286321285, 'out_prncp'),\n",
       " (0.014572274483912991, 'revol_bal'),\n",
       " (0.01447335868553449, 'out_prncp_inv'),\n",
       " (0.01438441142451517, 'mo_sin_old_il_acct'),\n",
       " (0.014030976515586486, 'mths_since_rcnt_il'),\n",
       " (0.014028404341696613, 'tot_hi_cred_lim'),\n",
       " (0.0139455163881746, 'il_util'),\n",
       " (0.013697563937877643, 'avg_cur_bal'),\n",
       " (0.012920337365994626, 'tot_cur_bal'),\n",
       " (0.012787482478532512, 'total_bal_il'),\n",
       " (0.012610472916333057, 'total_il_high_credit_limit'),\n",
       " (0.012335545609872432, 'total_bal_ex_mort'),\n",
       " (0.012030581735929633, 'mths_since_recent_bc'),\n",
       " (0.0119600412514934, 'total_rec_late_fee'),\n",
       " (0.01183857075429181, 'all_util'),\n",
       " (0.011543750525204106, 'total_rev_hi_lim'),\n",
       " (0.011463910818607582, 'num_il_tl'),\n",
       " (0.01121180348138297, 'total_acc'),\n",
       " (0.010958781615941887, 'mo_sin_rcnt_rev_tl_op'),\n",
       " (0.010922079784191276, 'loan_amnt'),\n",
       " (0.010797781225980461, 'mo_sin_rcnt_tl'),\n",
       " (0.010464226475552329, 'num_sats'),\n",
       " (0.010346430444822528, 'num_rev_accts'),\n",
       " (0.00971256698785389, 'open_acc'),\n",
       " (0.009613855066599501, 'num_actv_bc_tl'),\n",
       " (0.009420149800895661, 'pct_tl_nvr_dlq'),\n",
       " (0.00934023866775339, 'inq_last_6mths'),\n",
       " (0.009280238260058181, 'num_bc_tl'),\n",
       " (0.009110167889718569, 'num_actv_rev_tl'),\n",
       " (0.009054783407852705, 'acc_open_past_24mths'),\n",
       " (0.008521662157308513, 'inq_fi'),\n",
       " (0.008300290178690412, 'inq_last_12m'),\n",
       " (0.00829387676117466, 'num_rev_tl_bal_gt_0'),\n",
       " (0.008005103918745132, 'num_op_rev_tl'),\n",
       " (0.007430389338151151, 'open_il_24m'),\n",
       " (0.007389282609494247, 'percent_bc_gt_75'),\n",
       " (0.007351108770185647, 'open_act_il'),\n",
       " (0.007261269134860069, 'total_cu_tl'),\n",
       " (0.006958487833189615, 'num_tl_op_past_12m'),\n",
       " (0.006825834743524696, 'num_bc_sats'),\n",
       " (0.006376748380587264, 'mort_acc'),\n",
       " (0.006206351506885863, 'open_rv_24m'),\n",
       " (0.005342795637809828, 'open_acc_6m'),\n",
       " (0.004800176355392748, 'open_rv_12m'),\n",
       " (0.004754553829617811, 'verification_status_code'),\n",
       " (0.004013249307953453, 'delinq_2yrs'),\n",
       " (0.0038745338756887696, 'open_il_12m'),\n",
       " (0.0038640878308070243, 'tot_coll_amt'),\n",
       " (0.003636980097886935, 'num_accts_ever_120_pd'),\n",
       " (0.002825194154231818, 'home_ownership_code'),\n",
       " (0.001972958799998962, 'pub_rec'),\n",
       " (0.0011929919684441504, 'pub_rec_bankruptcies'),\n",
       " (0.0011335225256830876, 'initial_list_status_code'),\n",
       " (0.0010426319773675352, 'application_type_code'),\n",
       " (0.000622944562873879, 'num_tl_90g_dpd_24m'),\n",
       " (0.0004892126462213309, 'collections_12_mths_ex_med'),\n",
       " (0.00015744086350889772, 'chargeoff_within_12_mths'),\n",
       " (1.3985510599680183e-05, 'delinq_amnt'),\n",
       " (0.0, 'tax_liens'),\n",
       " (0.0, 'recoveries'),\n",
       " (0.0, 'pymnt_plan_code'),\n",
       " (0.0, 'policy_code'),\n",
       " (0.0, 'num_tl_30dpd'),\n",
       " (0.0, 'num_tl_120dpd_2m'),\n",
       " (0.0, 'hardship_flag_code'),\n",
       " (0.0, 'debt_settlement_flag_code'),\n",
       " (0.0, 'collection_recovery_fee'),\n",
       " (0.0, 'acc_now_delinq')]"
      ]
     },
     "execution_count": 39,
     "metadata": {},
     "output_type": "execute_result"
    }
   ],
   "source": [
    "# List the features sorted in descending order by feature importance\n",
    "importances = rf_model.feature_importances_\n",
    "sorted(zip(rf_model.feature_importances_, x.columns), reverse=True)"
   ]
  },
  {
   "cell_type": "markdown",
   "metadata": {},
   "source": [
    "### Easy Ensemble Classifier"
   ]
  },
  {
   "cell_type": "code",
   "execution_count": 42,
   "metadata": {},
   "outputs": [],
   "source": [
    "# Train the Classifier\n",
    "from imblearn.ensemble import EasyEnsembleClassifier\n",
    "#base_estimator = AdaBoostClassifier(n_estimators=10)\n",
    "eec = EasyEnsembleClassifier(n_estimators=10)\n",
    "eec.fit(x_train, y_train)\n",
    "y_pred_eec = eec.predict(x_test)\n"
   ]
  },
  {
   "cell_type": "code",
   "execution_count": 44,
   "metadata": {},
   "outputs": [
    {
     "name": "stdout",
     "output_type": "stream",
     "text": [
      "Balanced Accuracy Score : 0.8190782369873908\n"
     ]
    }
   ],
   "source": [
    "# Calculated the balanced accuracy score\n",
    "acc_score_eec = balanced_accuracy_score(y_test, y_pred_eec)\n",
    "print(f\"Balanced Accuracy Score : {acc_score_eec}\")"
   ]
  },
  {
   "cell_type": "code",
   "execution_count": 45,
   "metadata": {},
   "outputs": [
    {
     "name": "stdout",
     "output_type": "stream",
     "text": [
      "Confusion Matrix\n"
     ]
    },
    {
     "data": {
      "text/html": [
       "<div>\n",
       "<style scoped>\n",
       "    .dataframe tbody tr th:only-of-type {\n",
       "        vertical-align: middle;\n",
       "    }\n",
       "\n",
       "    .dataframe tbody tr th {\n",
       "        vertical-align: top;\n",
       "    }\n",
       "\n",
       "    .dataframe thead th {\n",
       "        text-align: right;\n",
       "    }\n",
       "</style>\n",
       "<table border=\"1\" class=\"dataframe\">\n",
       "  <thead>\n",
       "    <tr style=\"text-align: right;\">\n",
       "      <th></th>\n",
       "      <th>Predicted 0</th>\n",
       "      <th>Predicted 1</th>\n",
       "    </tr>\n",
       "  </thead>\n",
       "  <tbody>\n",
       "    <tr>\n",
       "      <th>Actual 0</th>\n",
       "      <td>71</td>\n",
       "      <td>21</td>\n",
       "    </tr>\n",
       "    <tr>\n",
       "      <th>Actual 1</th>\n",
       "      <td>2286</td>\n",
       "      <td>14827</td>\n",
       "    </tr>\n",
       "  </tbody>\n",
       "</table>\n",
       "</div>"
      ],
      "text/plain": [
       "          Predicted 0  Predicted 1\n",
       "Actual 0           71           21\n",
       "Actual 1         2286        14827"
      ]
     },
     "metadata": {},
     "output_type": "display_data"
    }
   ],
   "source": [
    "# Display the confusion matrix\n",
    "cm_eec= confusion_matrix(y_test, y_pred_eec)\n",
    "cm_df_eec = pd.DataFrame(\n",
    "    cm_eec, index=[\"Actual 0\", \"Actual 1\"], columns=[\"Predicted 0\", \"Predicted 1\"]\n",
    ")\n",
    "print(\"Confusion Matrix\")\n",
    "display(cm_df_eec)"
   ]
  },
  {
   "cell_type": "code",
   "execution_count": 46,
   "metadata": {},
   "outputs": [
    {
     "name": "stdout",
     "output_type": "stream",
     "text": [
      "Imbalanced Classification Report\n",
      "                   pre       rec       spe        f1       geo       iba       sup\n",
      "\n",
      "  high_risk       0.03      0.77      0.87      0.06      0.82      0.66        92\n",
      "   low_risk       1.00      0.87      0.77      0.93      0.82      0.67     17113\n",
      "\n",
      "avg / total       0.99      0.87      0.77      0.92      0.82      0.67     17205\n",
      "\n"
     ]
    }
   ],
   "source": [
    "# Print the imbalanced classification report\n",
    "print(\"Imbalanced Classification Report\")\n",
    "print(classification_report_imbalanced(y_test, y_pred_eec))"
   ]
  },
  {
   "cell_type": "raw",
   "metadata": {},
   "source": [
    "### Final Questions\n",
    "\n",
    "1. Which model had the best balanced accuracy score?\n",
    "\n",
    "    Easy Ensemble.\n",
    "\n",
    "2. Which model had the best recall score?\n",
    "\n",
    "    Imbalanced Classification.\n",
    "\n",
    "3. Which model had the best geometric mean score?\n",
    "\n",
    "    Easy Ensemble.\n",
    "\n",
    "4. What are the top three features?\n",
    "\n",
    "    'total_rec_prncp', 'total_pymnt', 'total_rec_int'."
   ]
  },
  {
   "cell_type": "code",
   "execution_count": null,
   "metadata": {},
   "outputs": [],
   "source": []
  }
 ],
 "metadata": {
  "kernelspec": {
   "display_name": "Python 3",
   "language": "python",
   "name": "python3"
  },
  "language_info": {
   "codemirror_mode": {
    "name": "ipython",
    "version": 3
   },
   "file_extension": ".py",
   "mimetype": "text/x-python",
   "name": "python",
   "nbconvert_exporter": "python",
   "pygments_lexer": "ipython3",
   "version": "3.8.5"
  }
 },
 "nbformat": 4,
 "nbformat_minor": 4
}
